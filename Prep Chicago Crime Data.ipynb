{
 "cells": [
  {
   "cell_type": "markdown",
   "id": "6ec35eb1",
   "metadata": {},
   "source": [
    "# Prepare Chicago Crime Data for a GitHub Repository"
   ]
  },
  {
   "cell_type": "markdown",
   "id": "30284ecf",
   "metadata": {},
   "source": [
    "- Original Notebook Source: https://github.com/coding-dojo-data-science/preparing-chicago-crime-data\n",
    "- Updated 03/30/2023"
   ]
  },
  {
   "cell_type": "markdown",
   "id": "8a7f3b6a",
   "metadata": {},
   "source": [
    ">- This notebook will process a \"Crimes - 2001 to Preset.csv\" crime file in your Downloads folder and save it as smaller .csv's in a new \"data/Chicago/\" folder inside this notebook's folder/repo."
   ]
  },
  {
   "cell_type": "code",
   "execution_count": 1,
   "outputs": [],
   "source": [
    "import os\n",
    "import glob"
   ],
   "metadata": {
    "collapsed": false
   }
  },
  {
   "cell_type": "code",
   "execution_count": 2,
   "id": "3c1267af",
   "metadata": {},
   "outputs": [],
   "source": [
    "## (Required) MAKE SURE TO CHANGE THIS VARIABLE TO MATCH YOUR LOCAL FILE NAME\n",
    "RAW_FILE = \"data/Crimes_-_2001_to_Present.csv\" #(or slice correct index from the crime_files list)"
   ]
  },
  {
   "cell_type": "code",
   "execution_count": 3,
   "id": "f400f29a",
   "metadata": {},
   "outputs": [],
   "source": [
    "## (Optional) SET THE FOLDER FOR FINAL FILES\n",
    "OUTPUT_FOLDER = 'data/Chicago/'\n",
    "os.makedirs(OUTPUT_FOLDER, exist_ok=True)"
   ]
  },
  {
   "cell_type": "markdown",
   "id": "894c80f3",
   "metadata": {},
   "source": [
    "# Full Workflow"
   ]
  },
  {
   "cell_type": "markdown",
   "id": "b6fefbd7",
   "metadata": {},
   "source": [
    "- Now that your RAW_FILE variable is set either:\n",
    "    - On the toolbar, click on the Kernel menu > \"Restart and Run All\".\n",
    "    - OR click on this cell first, then on the toolbar click on the \"Cell\" menu > \"Run All Below\""
   ]
  },
  {
   "cell_type": "code",
   "execution_count": 4,
   "id": "ea108387",
   "metadata": {
    "ExecuteTime": {
     "end_time": "2022-07-19T21:57:53.130039Z",
     "start_time": "2022-07-19T21:57:53.111531Z"
    }
   },
   "outputs": [],
   "source": [
    "import pandas as pd\n",
    "pd.set_option('display.max_columns', 100)\n",
    "pd.set_option('display.float_format',lambda x: f\"{x:,.2f}\")"
   ]
  },
  {
   "cell_type": "code",
   "execution_count": 5,
   "id": "0a19b6d3",
   "metadata": {
    "ExecuteTime": {
     "end_time": "2022-07-19T21:57:53.130039Z",
     "start_time": "2022-07-19T21:57:53.111531Z"
    }
   },
   "outputs": [
    {
     "data": {
      "text/plain": "         ID Case Number                    Date                  Block  IUCR  \\\n0  10224738    HY411648  09/05/2015 01:30:00 PM        043XX S WOOD ST  0486   \n1  10224739    HY411615  09/04/2015 11:30:00 AM    008XX N CENTRAL AVE  0870   \n2  11646166    JC213529  09/01/2018 12:01:00 AM  082XX S INGLESIDE AVE  0810   \n3  10224740    HY411595  09/05/2015 12:45:00 PM      035XX W BARRY AVE  2023   \n4  10224741    HY411610  09/05/2015 01:00:00 PM    0000X N LARAMIE AVE  0560   \n\n  Primary Type              Description Location Description  Arrest  \\\n0      BATTERY  DOMESTIC BATTERY SIMPLE            RESIDENCE   False   \n1        THEFT           POCKET-PICKING              CTA BUS   False   \n2        THEFT                OVER $500            RESIDENCE   False   \n3    NARCOTICS    POSS: HEROIN(BRN/TAN)             SIDEWALK    True   \n4      ASSAULT                   SIMPLE            APARTMENT   False   \n\n   Domestic  Beat  District  Ward  Community Area FBI Code  X Coordinate  \\\n0      True   924      9.00 12.00           61.00      08B  1,165,074.00   \n1     False  1511     15.00 29.00           25.00       06  1,138,875.00   \n2      True   631      6.00  8.00           44.00       06           NaN   \n3     False  1412     14.00 35.00           21.00       18  1,152,037.00   \n4      True  1522     15.00 28.00           25.00      08A  1,141,706.00   \n\n   Y Coordinate  Year              Updated On  Latitude  Longitude  \\\n0  1,875,917.00  2015  02/10/2018 03:50:01 PM     41.82     -87.67   \n1  1,904,869.00  2015  02/10/2018 03:50:01 PM     41.90     -87.77   \n2           NaN  2018  04/06/2019 04:04:43 PM       NaN        NaN   \n3  1,920,384.00  2015  02/10/2018 03:50:01 PM     41.94     -87.72   \n4  1,900,086.00  2015  02/10/2018 03:50:01 PM     41.88     -87.76   \n\n                        Location  \n0  (41.815117282, -87.669999562)  \n1  (41.895080471, -87.765400451)  \n2                            NaN  \n3  (41.937405765, -87.716649687)  \n4  (41.881903443, -87.755121152)  ",
      "text/html": "<div>\n<style scoped>\n    .dataframe tbody tr th:only-of-type {\n        vertical-align: middle;\n    }\n\n    .dataframe tbody tr th {\n        vertical-align: top;\n    }\n\n    .dataframe thead th {\n        text-align: right;\n    }\n</style>\n<table border=\"1\" class=\"dataframe\">\n  <thead>\n    <tr style=\"text-align: right;\">\n      <th></th>\n      <th>ID</th>\n      <th>Case Number</th>\n      <th>Date</th>\n      <th>Block</th>\n      <th>IUCR</th>\n      <th>Primary Type</th>\n      <th>Description</th>\n      <th>Location Description</th>\n      <th>Arrest</th>\n      <th>Domestic</th>\n      <th>Beat</th>\n      <th>District</th>\n      <th>Ward</th>\n      <th>Community Area</th>\n      <th>FBI Code</th>\n      <th>X Coordinate</th>\n      <th>Y Coordinate</th>\n      <th>Year</th>\n      <th>Updated On</th>\n      <th>Latitude</th>\n      <th>Longitude</th>\n      <th>Location</th>\n    </tr>\n  </thead>\n  <tbody>\n    <tr>\n      <th>0</th>\n      <td>10224738</td>\n      <td>HY411648</td>\n      <td>09/05/2015 01:30:00 PM</td>\n      <td>043XX S WOOD ST</td>\n      <td>0486</td>\n      <td>BATTERY</td>\n      <td>DOMESTIC BATTERY SIMPLE</td>\n      <td>RESIDENCE</td>\n      <td>False</td>\n      <td>True</td>\n      <td>924</td>\n      <td>9.00</td>\n      <td>12.00</td>\n      <td>61.00</td>\n      <td>08B</td>\n      <td>1,165,074.00</td>\n      <td>1,875,917.00</td>\n      <td>2015</td>\n      <td>02/10/2018 03:50:01 PM</td>\n      <td>41.82</td>\n      <td>-87.67</td>\n      <td>(41.815117282, -87.669999562)</td>\n    </tr>\n    <tr>\n      <th>1</th>\n      <td>10224739</td>\n      <td>HY411615</td>\n      <td>09/04/2015 11:30:00 AM</td>\n      <td>008XX N CENTRAL AVE</td>\n      <td>0870</td>\n      <td>THEFT</td>\n      <td>POCKET-PICKING</td>\n      <td>CTA BUS</td>\n      <td>False</td>\n      <td>False</td>\n      <td>1511</td>\n      <td>15.00</td>\n      <td>29.00</td>\n      <td>25.00</td>\n      <td>06</td>\n      <td>1,138,875.00</td>\n      <td>1,904,869.00</td>\n      <td>2015</td>\n      <td>02/10/2018 03:50:01 PM</td>\n      <td>41.90</td>\n      <td>-87.77</td>\n      <td>(41.895080471, -87.765400451)</td>\n    </tr>\n    <tr>\n      <th>2</th>\n      <td>11646166</td>\n      <td>JC213529</td>\n      <td>09/01/2018 12:01:00 AM</td>\n      <td>082XX S INGLESIDE AVE</td>\n      <td>0810</td>\n      <td>THEFT</td>\n      <td>OVER $500</td>\n      <td>RESIDENCE</td>\n      <td>False</td>\n      <td>True</td>\n      <td>631</td>\n      <td>6.00</td>\n      <td>8.00</td>\n      <td>44.00</td>\n      <td>06</td>\n      <td>NaN</td>\n      <td>NaN</td>\n      <td>2018</td>\n      <td>04/06/2019 04:04:43 PM</td>\n      <td>NaN</td>\n      <td>NaN</td>\n      <td>NaN</td>\n    </tr>\n    <tr>\n      <th>3</th>\n      <td>10224740</td>\n      <td>HY411595</td>\n      <td>09/05/2015 12:45:00 PM</td>\n      <td>035XX W BARRY AVE</td>\n      <td>2023</td>\n      <td>NARCOTICS</td>\n      <td>POSS: HEROIN(BRN/TAN)</td>\n      <td>SIDEWALK</td>\n      <td>True</td>\n      <td>False</td>\n      <td>1412</td>\n      <td>14.00</td>\n      <td>35.00</td>\n      <td>21.00</td>\n      <td>18</td>\n      <td>1,152,037.00</td>\n      <td>1,920,384.00</td>\n      <td>2015</td>\n      <td>02/10/2018 03:50:01 PM</td>\n      <td>41.94</td>\n      <td>-87.72</td>\n      <td>(41.937405765, -87.716649687)</td>\n    </tr>\n    <tr>\n      <th>4</th>\n      <td>10224741</td>\n      <td>HY411610</td>\n      <td>09/05/2015 01:00:00 PM</td>\n      <td>0000X N LARAMIE AVE</td>\n      <td>0560</td>\n      <td>ASSAULT</td>\n      <td>SIMPLE</td>\n      <td>APARTMENT</td>\n      <td>False</td>\n      <td>True</td>\n      <td>1522</td>\n      <td>15.00</td>\n      <td>28.00</td>\n      <td>25.00</td>\n      <td>08A</td>\n      <td>1,141,706.00</td>\n      <td>1,900,086.00</td>\n      <td>2015</td>\n      <td>02/10/2018 03:50:01 PM</td>\n      <td>41.88</td>\n      <td>-87.76</td>\n      <td>(41.881903443, -87.755121152)</td>\n    </tr>\n  </tbody>\n</table>\n</div>"
     },
     "execution_count": 5,
     "metadata": {},
     "output_type": "execute_result"
    }
   ],
   "source": [
    "chicago_full = pd.read_csv(RAW_FILE)\n",
    "chicago_full.head()"
   ]
  },
  {
   "cell_type": "code",
   "execution_count": 6,
   "id": "2515b4e4",
   "metadata": {},
   "outputs": [
    {
     "data": {
      "text/plain": "'09/05/2015 01:30:00 PM'"
     },
     "metadata": {},
     "output_type": "display_data"
    },
    {
     "data": {
      "text/plain": "Timestamp('2015-09-05 01:30:00')"
     },
     "execution_count": 6,
     "metadata": {},
     "output_type": "execute_result"
    }
   ],
   "source": [
    "# explicitly setting the format to speed up pd.to_datetime\n",
    "date_format = \"%m/%d/%Y %H:%M:%S %p\"\n",
    "\n",
    "\n",
    "### Demonstrating/testing date_format\n",
    "example = chicago_full.loc[0,'Date']\n",
    "display(example)\n",
    "pd.to_datetime(example,format=date_format)"
   ]
  },
  {
   "cell_type": "code",
   "execution_count": 7,
   "id": "13ea2508",
   "metadata": {
    "ExecuteTime": {
     "end_time": "2022-07-19T22:00:56.546373Z",
     "start_time": "2022-07-19T21:58:59.582570Z"
    }
   },
   "outputs": [
    {
     "data": {
      "text/plain": "                           ID Case Number                    Date  \\\nDatetime                                                            \n2001-01-01 01:00:00   3769790    HL141452  01/01/2001 01:00:00 PM   \n2001-01-01 01:00:00   1310717     G001093  01/01/2001 01:00:00 AM   \n2001-01-01 01:00:00   1358218     G059453  01/01/2001 01:00:00 PM   \n2001-01-01 01:00:00   5462733    HN290220  01/01/2001 01:00:00 AM   \n2001-01-01 01:00:00   1309918     G000412  01/01/2001 01:00:00 AM   \n...                       ...         ...                     ...   \n2023-03-22 12:52:00  13020485    JG196880  03/22/2023 12:52:00 PM   \n2023-03-22 12:53:00  13017961    JG194873  03/22/2023 12:53:00 PM   \n2023-03-22 12:55:00  13018787    JG195800  03/22/2023 12:55:00 PM   \n2023-03-22 12:59:00  13018716    JG194886  03/22/2023 12:59:00 PM   \n2023-03-22 12:59:00  13017628    JG194382  03/22/2023 12:59:00 AM   \n\n                                         Block  IUCR  \\\nDatetime                                               \n2001-01-01 01:00:00           121XX S LOWE AVE  0842   \n2001-01-01 01:00:00         071XX N WOLCOTT AV  1320   \n2001-01-01 01:00:00          063XX S RHODES AV  0560   \n2001-01-01 01:00:00        058XX S INDIANA AVE  1752   \n2001-01-01 01:00:00       032XX N SHEFFIELD AV  0820   \n...                                        ...   ...   \n2023-03-22 12:52:00           001XX N STATE ST  0860   \n2023-03-22 12:53:00     023XX W IRVING PARK RD  1330   \n2023-03-22 12:55:00      042XX N CLARENDON AVE  0420   \n2023-03-22 12:59:00     091XX S COMMERCIAL AVE  0860   \n2023-03-22 12:59:00  084XX S COTTAGE GROVE AVE  143A   \n\n                                   Primary Type  \\\nDatetime                                          \n2001-01-01 01:00:00                       THEFT   \n2001-01-01 01:00:00             CRIMINAL DAMAGE   \n2001-01-01 01:00:00                     ASSAULT   \n2001-01-01 01:00:00  OFFENSE INVOLVING CHILDREN   \n2001-01-01 01:00:00                       THEFT   \n...                                         ...   \n2023-03-22 12:52:00                       THEFT   \n2023-03-22 12:53:00           CRIMINAL TRESPASS   \n2023-03-22 12:55:00                     BATTERY   \n2023-03-22 12:59:00                       THEFT   \n2023-03-22 12:59:00           WEAPONS VIOLATION   \n\n                                                 Description  \\\nDatetime                                                       \n2001-01-01 01:00:00                  AGG: FINANCIAL ID THEFT   \n2001-01-01 01:00:00                               TO VEHICLE   \n2001-01-01 01:00:00                                   SIMPLE   \n2001-01-01 01:00:00            AGG CRIM SEX ABUSE FAM MEMBER   \n2001-01-01 01:00:00                           $500 AND UNDER   \n...                                                      ...   \n2023-03-22 12:52:00                             RETAIL THEFT   \n2023-03-22 12:53:00                                  TO LAND   \n2023-03-22 12:55:00  AGGRAVATED - KNIFE / CUTTING INSTRUMENT   \n2023-03-22 12:59:00                             RETAIL THEFT   \n2023-03-22 12:59:00            UNLAWFUL POSSESSION - HANDGUN   \n\n                        Location Description  Arrest  Domestic  Beat  \\\nDatetime                                                               \n2001-01-01 01:00:00                RESIDENCE   False     False   523   \n2001-01-01 01:00:00                   STREET   False     False  2424   \n2001-01-01 01:00:00                APARTMENT   False     False   312   \n2001-01-01 01:00:00                RESIDENCE   False      True   233   \n2001-01-01 01:00:00      TAVERN/LIQUOR STORE   False     False  1924   \n...                                      ...     ...       ...   ...   \n2023-03-22 12:52:00       SMALL RETAIL STORE   False     False   111   \n2023-03-22 12:53:00       SMALL RETAIL STORE    True     False  1921   \n2023-03-22 12:55:00  SCHOOL - PUBLIC GROUNDS   False     False  1915   \n2023-03-22 12:59:00               DRUG STORE   False     False   423   \n2023-03-22 12:59:00                   STREET    True     False   632   \n\n                     District  Ward  Community Area FBI Code  X Coordinate  \\\nDatetime                                                                     \n2001-01-01 01:00:00      5.00 34.00           53.00       06  1,174,215.00   \n2001-01-01 01:00:00     24.00   NaN             NaN       14  1,162,335.00   \n2001-01-01 01:00:00      3.00   NaN             NaN      08A  1,180,959.00   \n2001-01-01 01:00:00      2.00 20.00           40.00       20  1,178,551.00   \n2001-01-01 01:00:00     19.00   NaN             NaN       06  1,169,005.00   \n...                       ...   ...             ...      ...           ...   \n2023-03-22 12:52:00      1.00 42.00           32.00       06  1,176,352.00   \n2023-03-22 12:53:00     19.00 47.00            5.00       26  1,160,237.00   \n2023-03-22 12:55:00     19.00 46.00            3.00      04B  1,170,144.00   \n2023-03-22 12:59:00      4.00 10.00           46.00       06  1,197,734.00   \n2023-03-22 12:59:00      6.00  8.00           44.00       15  1,183,039.00   \n\n                     Y Coordinate  Year              Updated On  Latitude  \\\nDatetime                                                                    \n2001-01-01 01:00:00  1,824,262.00  2001  03/31/2006 10:03:38 PM     41.67   \n2001-01-01 01:00:00  1,947,787.00  2001  08/17/2015 03:03:40 PM     42.01   \n2001-01-01 01:00:00  1,862,790.00  2001  08/17/2015 03:03:40 PM     41.78   \n2001-01-01 01:00:00  1,866,538.00  2001  04/25/2007 05:57:12 AM     41.79   \n2001-01-01 01:00:00  1,921,458.00  2001  08/17/2015 03:03:40 PM     41.94   \n...                           ...   ...                     ...       ...   \n2023-03-22 12:52:00  1,900,918.00  2023  03/29/2023 05:00:26 PM     41.88   \n2023-03-22 12:53:00  1,926,508.00  2023  03/29/2023 05:00:26 PM     41.95   \n2023-03-22 12:55:00  1,928,727.00  2023  03/29/2023 05:00:26 PM     41.96   \n2023-03-22 12:59:00  1,844,871.00  2023  03/29/2023 05:00:26 PM     41.73   \n2023-03-22 12:59:00  1,848,936.00  2023  03/29/2023 05:00:26 PM     41.74   \n\n                     Longitude                       Location  \nDatetime                                                       \n2001-01-01 01:00:00     -87.64  (41.673170821, -87.638000169)  \n2001-01-01 01:00:00     -87.68    (42.0123912, -87.678032389)  \n2001-01-01 01:00:00     -87.61  (41.778744378, -87.612135367)  \n2001-01-01 01:00:00     -87.62  (41.789084341, -87.620849345)  \n2001-01-01 01:00:00     -87.65  (41.940000996, -87.654258339)  \n...                        ...                            ...  \n2023-03-22 12:52:00     -87.63  (41.883475491, -87.627876969)  \n2023-03-22 12:53:00     -87.69  (41.954044565, -87.686343366)  \n2023-03-22 12:55:00     -87.65  (41.959922564, -87.649859134)  \n2023-03-22 12:59:00     -87.55  (41.729170867, -87.551235346)  \n2023-03-22 12:59:00     -87.60  (41.740679477, -87.604940063)  \n\n[7763122 rows x 22 columns]",
      "text/html": "<div>\n<style scoped>\n    .dataframe tbody tr th:only-of-type {\n        vertical-align: middle;\n    }\n\n    .dataframe tbody tr th {\n        vertical-align: top;\n    }\n\n    .dataframe thead th {\n        text-align: right;\n    }\n</style>\n<table border=\"1\" class=\"dataframe\">\n  <thead>\n    <tr style=\"text-align: right;\">\n      <th></th>\n      <th>ID</th>\n      <th>Case Number</th>\n      <th>Date</th>\n      <th>Block</th>\n      <th>IUCR</th>\n      <th>Primary Type</th>\n      <th>Description</th>\n      <th>Location Description</th>\n      <th>Arrest</th>\n      <th>Domestic</th>\n      <th>Beat</th>\n      <th>District</th>\n      <th>Ward</th>\n      <th>Community Area</th>\n      <th>FBI Code</th>\n      <th>X Coordinate</th>\n      <th>Y Coordinate</th>\n      <th>Year</th>\n      <th>Updated On</th>\n      <th>Latitude</th>\n      <th>Longitude</th>\n      <th>Location</th>\n    </tr>\n    <tr>\n      <th>Datetime</th>\n      <th></th>\n      <th></th>\n      <th></th>\n      <th></th>\n      <th></th>\n      <th></th>\n      <th></th>\n      <th></th>\n      <th></th>\n      <th></th>\n      <th></th>\n      <th></th>\n      <th></th>\n      <th></th>\n      <th></th>\n      <th></th>\n      <th></th>\n      <th></th>\n      <th></th>\n      <th></th>\n      <th></th>\n      <th></th>\n    </tr>\n  </thead>\n  <tbody>\n    <tr>\n      <th>2001-01-01 01:00:00</th>\n      <td>3769790</td>\n      <td>HL141452</td>\n      <td>01/01/2001 01:00:00 PM</td>\n      <td>121XX S LOWE AVE</td>\n      <td>0842</td>\n      <td>THEFT</td>\n      <td>AGG: FINANCIAL ID THEFT</td>\n      <td>RESIDENCE</td>\n      <td>False</td>\n      <td>False</td>\n      <td>523</td>\n      <td>5.00</td>\n      <td>34.00</td>\n      <td>53.00</td>\n      <td>06</td>\n      <td>1,174,215.00</td>\n      <td>1,824,262.00</td>\n      <td>2001</td>\n      <td>03/31/2006 10:03:38 PM</td>\n      <td>41.67</td>\n      <td>-87.64</td>\n      <td>(41.673170821, -87.638000169)</td>\n    </tr>\n    <tr>\n      <th>2001-01-01 01:00:00</th>\n      <td>1310717</td>\n      <td>G001093</td>\n      <td>01/01/2001 01:00:00 AM</td>\n      <td>071XX N WOLCOTT AV</td>\n      <td>1320</td>\n      <td>CRIMINAL DAMAGE</td>\n      <td>TO VEHICLE</td>\n      <td>STREET</td>\n      <td>False</td>\n      <td>False</td>\n      <td>2424</td>\n      <td>24.00</td>\n      <td>NaN</td>\n      <td>NaN</td>\n      <td>14</td>\n      <td>1,162,335.00</td>\n      <td>1,947,787.00</td>\n      <td>2001</td>\n      <td>08/17/2015 03:03:40 PM</td>\n      <td>42.01</td>\n      <td>-87.68</td>\n      <td>(42.0123912, -87.678032389)</td>\n    </tr>\n    <tr>\n      <th>2001-01-01 01:00:00</th>\n      <td>1358218</td>\n      <td>G059453</td>\n      <td>01/01/2001 01:00:00 PM</td>\n      <td>063XX S RHODES AV</td>\n      <td>0560</td>\n      <td>ASSAULT</td>\n      <td>SIMPLE</td>\n      <td>APARTMENT</td>\n      <td>False</td>\n      <td>False</td>\n      <td>312</td>\n      <td>3.00</td>\n      <td>NaN</td>\n      <td>NaN</td>\n      <td>08A</td>\n      <td>1,180,959.00</td>\n      <td>1,862,790.00</td>\n      <td>2001</td>\n      <td>08/17/2015 03:03:40 PM</td>\n      <td>41.78</td>\n      <td>-87.61</td>\n      <td>(41.778744378, -87.612135367)</td>\n    </tr>\n    <tr>\n      <th>2001-01-01 01:00:00</th>\n      <td>5462733</td>\n      <td>HN290220</td>\n      <td>01/01/2001 01:00:00 AM</td>\n      <td>058XX S INDIANA AVE</td>\n      <td>1752</td>\n      <td>OFFENSE INVOLVING CHILDREN</td>\n      <td>AGG CRIM SEX ABUSE FAM MEMBER</td>\n      <td>RESIDENCE</td>\n      <td>False</td>\n      <td>True</td>\n      <td>233</td>\n      <td>2.00</td>\n      <td>20.00</td>\n      <td>40.00</td>\n      <td>20</td>\n      <td>1,178,551.00</td>\n      <td>1,866,538.00</td>\n      <td>2001</td>\n      <td>04/25/2007 05:57:12 AM</td>\n      <td>41.79</td>\n      <td>-87.62</td>\n      <td>(41.789084341, -87.620849345)</td>\n    </tr>\n    <tr>\n      <th>2001-01-01 01:00:00</th>\n      <td>1309918</td>\n      <td>G000412</td>\n      <td>01/01/2001 01:00:00 AM</td>\n      <td>032XX N SHEFFIELD AV</td>\n      <td>0820</td>\n      <td>THEFT</td>\n      <td>$500 AND UNDER</td>\n      <td>TAVERN/LIQUOR STORE</td>\n      <td>False</td>\n      <td>False</td>\n      <td>1924</td>\n      <td>19.00</td>\n      <td>NaN</td>\n      <td>NaN</td>\n      <td>06</td>\n      <td>1,169,005.00</td>\n      <td>1,921,458.00</td>\n      <td>2001</td>\n      <td>08/17/2015 03:03:40 PM</td>\n      <td>41.94</td>\n      <td>-87.65</td>\n      <td>(41.940000996, -87.654258339)</td>\n    </tr>\n    <tr>\n      <th>...</th>\n      <td>...</td>\n      <td>...</td>\n      <td>...</td>\n      <td>...</td>\n      <td>...</td>\n      <td>...</td>\n      <td>...</td>\n      <td>...</td>\n      <td>...</td>\n      <td>...</td>\n      <td>...</td>\n      <td>...</td>\n      <td>...</td>\n      <td>...</td>\n      <td>...</td>\n      <td>...</td>\n      <td>...</td>\n      <td>...</td>\n      <td>...</td>\n      <td>...</td>\n      <td>...</td>\n      <td>...</td>\n    </tr>\n    <tr>\n      <th>2023-03-22 12:52:00</th>\n      <td>13020485</td>\n      <td>JG196880</td>\n      <td>03/22/2023 12:52:00 PM</td>\n      <td>001XX N STATE ST</td>\n      <td>0860</td>\n      <td>THEFT</td>\n      <td>RETAIL THEFT</td>\n      <td>SMALL RETAIL STORE</td>\n      <td>False</td>\n      <td>False</td>\n      <td>111</td>\n      <td>1.00</td>\n      <td>42.00</td>\n      <td>32.00</td>\n      <td>06</td>\n      <td>1,176,352.00</td>\n      <td>1,900,918.00</td>\n      <td>2023</td>\n      <td>03/29/2023 05:00:26 PM</td>\n      <td>41.88</td>\n      <td>-87.63</td>\n      <td>(41.883475491, -87.627876969)</td>\n    </tr>\n    <tr>\n      <th>2023-03-22 12:53:00</th>\n      <td>13017961</td>\n      <td>JG194873</td>\n      <td>03/22/2023 12:53:00 PM</td>\n      <td>023XX W IRVING PARK RD</td>\n      <td>1330</td>\n      <td>CRIMINAL TRESPASS</td>\n      <td>TO LAND</td>\n      <td>SMALL RETAIL STORE</td>\n      <td>True</td>\n      <td>False</td>\n      <td>1921</td>\n      <td>19.00</td>\n      <td>47.00</td>\n      <td>5.00</td>\n      <td>26</td>\n      <td>1,160,237.00</td>\n      <td>1,926,508.00</td>\n      <td>2023</td>\n      <td>03/29/2023 05:00:26 PM</td>\n      <td>41.95</td>\n      <td>-87.69</td>\n      <td>(41.954044565, -87.686343366)</td>\n    </tr>\n    <tr>\n      <th>2023-03-22 12:55:00</th>\n      <td>13018787</td>\n      <td>JG195800</td>\n      <td>03/22/2023 12:55:00 PM</td>\n      <td>042XX N CLARENDON AVE</td>\n      <td>0420</td>\n      <td>BATTERY</td>\n      <td>AGGRAVATED - KNIFE / CUTTING INSTRUMENT</td>\n      <td>SCHOOL - PUBLIC GROUNDS</td>\n      <td>False</td>\n      <td>False</td>\n      <td>1915</td>\n      <td>19.00</td>\n      <td>46.00</td>\n      <td>3.00</td>\n      <td>04B</td>\n      <td>1,170,144.00</td>\n      <td>1,928,727.00</td>\n      <td>2023</td>\n      <td>03/29/2023 05:00:26 PM</td>\n      <td>41.96</td>\n      <td>-87.65</td>\n      <td>(41.959922564, -87.649859134)</td>\n    </tr>\n    <tr>\n      <th>2023-03-22 12:59:00</th>\n      <td>13018716</td>\n      <td>JG194886</td>\n      <td>03/22/2023 12:59:00 PM</td>\n      <td>091XX S COMMERCIAL AVE</td>\n      <td>0860</td>\n      <td>THEFT</td>\n      <td>RETAIL THEFT</td>\n      <td>DRUG STORE</td>\n      <td>False</td>\n      <td>False</td>\n      <td>423</td>\n      <td>4.00</td>\n      <td>10.00</td>\n      <td>46.00</td>\n      <td>06</td>\n      <td>1,197,734.00</td>\n      <td>1,844,871.00</td>\n      <td>2023</td>\n      <td>03/29/2023 05:00:26 PM</td>\n      <td>41.73</td>\n      <td>-87.55</td>\n      <td>(41.729170867, -87.551235346)</td>\n    </tr>\n    <tr>\n      <th>2023-03-22 12:59:00</th>\n      <td>13017628</td>\n      <td>JG194382</td>\n      <td>03/22/2023 12:59:00 AM</td>\n      <td>084XX S COTTAGE GROVE AVE</td>\n      <td>143A</td>\n      <td>WEAPONS VIOLATION</td>\n      <td>UNLAWFUL POSSESSION - HANDGUN</td>\n      <td>STREET</td>\n      <td>True</td>\n      <td>False</td>\n      <td>632</td>\n      <td>6.00</td>\n      <td>8.00</td>\n      <td>44.00</td>\n      <td>15</td>\n      <td>1,183,039.00</td>\n      <td>1,848,936.00</td>\n      <td>2023</td>\n      <td>03/29/2023 05:00:26 PM</td>\n      <td>41.74</td>\n      <td>-87.60</td>\n      <td>(41.740679477, -87.604940063)</td>\n    </tr>\n  </tbody>\n</table>\n<p>7763122 rows × 22 columns</p>\n</div>"
     },
     "execution_count": 7,
     "metadata": {},
     "output_type": "execute_result"
    }
   ],
   "source": [
    "# this cell can take up to 1 min to run\n",
    "chicago_full['Datetime'] = pd.to_datetime(chicago_full['Date'], format=date_format)\n",
    "chicago_full = chicago_full.sort_values('Datetime')\n",
    "chicago_full = chicago_full.set_index('Datetime')\n",
    "chicago_full"
   ]
  },
  {
   "cell_type": "code",
   "execution_count": 8,
   "id": "b08fc550",
   "metadata": {},
   "outputs": [
    {
     "data": {
      "text/plain": "ID                     0.00\nCase Number            0.00\nDate                   0.00\nBlock                  0.00\nIUCR                   0.00\nPrimary Type           0.00\nDescription            0.00\nLocation Description   0.00\nArrest                 0.00\nDomestic               0.00\nBeat                   0.00\nDistrict               0.00\nWard                   0.08\nCommunity Area         0.08\nFBI Code               0.00\nX Coordinate           0.01\nY Coordinate           0.01\nYear                   0.00\nUpdated On             0.00\nLatitude               0.01\nLongitude              0.01\nLocation               0.01\ndtype: float64"
     },
     "execution_count": 8,
     "metadata": {},
     "output_type": "execute_result"
    }
   ],
   "source": [
    "(chicago_full.isna().sum()/len(chicago_full)).round(2)"
   ]
  },
  {
   "cell_type": "markdown",
   "id": "1d5375bd",
   "metadata": {},
   "source": [
    "## Separate the Full Dataset by Years"
   ]
  },
  {
   "cell_type": "code",
   "execution_count": 9,
   "id": "387c9dac",
   "metadata": {
    "ExecuteTime": {
     "end_time": "2022-07-19T22:00:57.098220Z",
     "start_time": "2022-07-19T22:00:56.968728Z"
    }
   },
   "outputs": [
    {
     "data": {
      "text/plain": "2002    486801\n2001    485875\n2003    475979\n2004    469420\n2005    453770\n2006    448174\n2007    437082\n2008    427164\n2009    392818\n2010    370494\n2011    351959\n2012    336261\n2013    307463\n2014    275731\n2016    269783\n2017    269057\n2018    268761\n2015    264751\n2019    261227\n2022    237604\n2020    212062\n2021    208508\n2023     52378\nName: Year, dtype: int64"
     },
     "execution_count": 9,
     "metadata": {},
     "output_type": "execute_result"
    }
   ],
   "source": [
    "# save the years for every crime\n",
    "chicago_full[\"Year\"] = chicago_full.index.year\n",
    "chicago_full[\"Year\"] = chicago_full[\"Year\"].astype(str)\n",
    "chicago_full[\"Year\"].value_counts()"
   ]
  },
  {
   "cell_type": "code",
   "execution_count": 10,
   "id": "6417fc0d",
   "metadata": {
    "ExecuteTime": {
     "end_time": "2022-07-19T22:00:57.381210Z",
     "start_time": "2022-07-19T22:00:57.363196Z"
    }
   },
   "outputs": [],
   "source": [
    "## Dropping unneeded columns to reduce file size\n",
    "drop_cols = [\"X Coordinate\",\"Y Coordinate\", \"Community Area\",\"FBI Code\",\n",
    "             \"Case Number\",\"Updated On\",'Block','Location','IUCR']"
   ]
  },
  {
   "cell_type": "code",
   "execution_count": 11,
   "id": "e90d0318",
   "metadata": {},
   "outputs": [
    {
     "data": {
      "text/plain": "                           ID                    Date  \\\nDatetime                                                \n2001-01-01 01:00:00   3769790  01/01/2001 01:00:00 PM   \n2001-01-01 01:00:00   1310717  01/01/2001 01:00:00 AM   \n2001-01-01 01:00:00   1358218  01/01/2001 01:00:00 PM   \n2001-01-01 01:00:00   5462733  01/01/2001 01:00:00 AM   \n2001-01-01 01:00:00   1309918  01/01/2001 01:00:00 AM   \n...                       ...                     ...   \n2023-03-22 12:52:00  13020485  03/22/2023 12:52:00 PM   \n2023-03-22 12:53:00  13017961  03/22/2023 12:53:00 PM   \n2023-03-22 12:55:00  13018787  03/22/2023 12:55:00 PM   \n2023-03-22 12:59:00  13018716  03/22/2023 12:59:00 PM   \n2023-03-22 12:59:00  13017628  03/22/2023 12:59:00 AM   \n\n                                   Primary Type  \\\nDatetime                                          \n2001-01-01 01:00:00                       THEFT   \n2001-01-01 01:00:00             CRIMINAL DAMAGE   \n2001-01-01 01:00:00                     ASSAULT   \n2001-01-01 01:00:00  OFFENSE INVOLVING CHILDREN   \n2001-01-01 01:00:00                       THEFT   \n...                                         ...   \n2023-03-22 12:52:00                       THEFT   \n2023-03-22 12:53:00           CRIMINAL TRESPASS   \n2023-03-22 12:55:00                     BATTERY   \n2023-03-22 12:59:00                       THEFT   \n2023-03-22 12:59:00           WEAPONS VIOLATION   \n\n                                                 Description  \\\nDatetime                                                       \n2001-01-01 01:00:00                  AGG: FINANCIAL ID THEFT   \n2001-01-01 01:00:00                               TO VEHICLE   \n2001-01-01 01:00:00                                   SIMPLE   \n2001-01-01 01:00:00            AGG CRIM SEX ABUSE FAM MEMBER   \n2001-01-01 01:00:00                           $500 AND UNDER   \n...                                                      ...   \n2023-03-22 12:52:00                             RETAIL THEFT   \n2023-03-22 12:53:00                                  TO LAND   \n2023-03-22 12:55:00  AGGRAVATED - KNIFE / CUTTING INSTRUMENT   \n2023-03-22 12:59:00                             RETAIL THEFT   \n2023-03-22 12:59:00            UNLAWFUL POSSESSION - HANDGUN   \n\n                        Location Description  Arrest  Domestic  Beat  \\\nDatetime                                                               \n2001-01-01 01:00:00                RESIDENCE   False     False   523   \n2001-01-01 01:00:00                   STREET   False     False  2424   \n2001-01-01 01:00:00                APARTMENT   False     False   312   \n2001-01-01 01:00:00                RESIDENCE   False      True   233   \n2001-01-01 01:00:00      TAVERN/LIQUOR STORE   False     False  1924   \n...                                      ...     ...       ...   ...   \n2023-03-22 12:52:00       SMALL RETAIL STORE   False     False   111   \n2023-03-22 12:53:00       SMALL RETAIL STORE    True     False  1921   \n2023-03-22 12:55:00  SCHOOL - PUBLIC GROUNDS   False     False  1915   \n2023-03-22 12:59:00               DRUG STORE   False     False   423   \n2023-03-22 12:59:00                   STREET    True     False   632   \n\n                     District  Ward  Year  Latitude  Longitude  \nDatetime                                                        \n2001-01-01 01:00:00      5.00 34.00  2001     41.67     -87.64  \n2001-01-01 01:00:00     24.00   NaN  2001     42.01     -87.68  \n2001-01-01 01:00:00      3.00   NaN  2001     41.78     -87.61  \n2001-01-01 01:00:00      2.00 20.00  2001     41.79     -87.62  \n2001-01-01 01:00:00     19.00   NaN  2001     41.94     -87.65  \n...                       ...   ...   ...       ...        ...  \n2023-03-22 12:52:00      1.00 42.00  2023     41.88     -87.63  \n2023-03-22 12:53:00     19.00 47.00  2023     41.95     -87.69  \n2023-03-22 12:55:00     19.00 46.00  2023     41.96     -87.65  \n2023-03-22 12:59:00      4.00 10.00  2023     41.73     -87.55  \n2023-03-22 12:59:00      6.00  8.00  2023     41.74     -87.60  \n\n[7763122 rows x 13 columns]",
      "text/html": "<div>\n<style scoped>\n    .dataframe tbody tr th:only-of-type {\n        vertical-align: middle;\n    }\n\n    .dataframe tbody tr th {\n        vertical-align: top;\n    }\n\n    .dataframe thead th {\n        text-align: right;\n    }\n</style>\n<table border=\"1\" class=\"dataframe\">\n  <thead>\n    <tr style=\"text-align: right;\">\n      <th></th>\n      <th>ID</th>\n      <th>Date</th>\n      <th>Primary Type</th>\n      <th>Description</th>\n      <th>Location Description</th>\n      <th>Arrest</th>\n      <th>Domestic</th>\n      <th>Beat</th>\n      <th>District</th>\n      <th>Ward</th>\n      <th>Year</th>\n      <th>Latitude</th>\n      <th>Longitude</th>\n    </tr>\n    <tr>\n      <th>Datetime</th>\n      <th></th>\n      <th></th>\n      <th></th>\n      <th></th>\n      <th></th>\n      <th></th>\n      <th></th>\n      <th></th>\n      <th></th>\n      <th></th>\n      <th></th>\n      <th></th>\n      <th></th>\n    </tr>\n  </thead>\n  <tbody>\n    <tr>\n      <th>2001-01-01 01:00:00</th>\n      <td>3769790</td>\n      <td>01/01/2001 01:00:00 PM</td>\n      <td>THEFT</td>\n      <td>AGG: FINANCIAL ID THEFT</td>\n      <td>RESIDENCE</td>\n      <td>False</td>\n      <td>False</td>\n      <td>523</td>\n      <td>5.00</td>\n      <td>34.00</td>\n      <td>2001</td>\n      <td>41.67</td>\n      <td>-87.64</td>\n    </tr>\n    <tr>\n      <th>2001-01-01 01:00:00</th>\n      <td>1310717</td>\n      <td>01/01/2001 01:00:00 AM</td>\n      <td>CRIMINAL DAMAGE</td>\n      <td>TO VEHICLE</td>\n      <td>STREET</td>\n      <td>False</td>\n      <td>False</td>\n      <td>2424</td>\n      <td>24.00</td>\n      <td>NaN</td>\n      <td>2001</td>\n      <td>42.01</td>\n      <td>-87.68</td>\n    </tr>\n    <tr>\n      <th>2001-01-01 01:00:00</th>\n      <td>1358218</td>\n      <td>01/01/2001 01:00:00 PM</td>\n      <td>ASSAULT</td>\n      <td>SIMPLE</td>\n      <td>APARTMENT</td>\n      <td>False</td>\n      <td>False</td>\n      <td>312</td>\n      <td>3.00</td>\n      <td>NaN</td>\n      <td>2001</td>\n      <td>41.78</td>\n      <td>-87.61</td>\n    </tr>\n    <tr>\n      <th>2001-01-01 01:00:00</th>\n      <td>5462733</td>\n      <td>01/01/2001 01:00:00 AM</td>\n      <td>OFFENSE INVOLVING CHILDREN</td>\n      <td>AGG CRIM SEX ABUSE FAM MEMBER</td>\n      <td>RESIDENCE</td>\n      <td>False</td>\n      <td>True</td>\n      <td>233</td>\n      <td>2.00</td>\n      <td>20.00</td>\n      <td>2001</td>\n      <td>41.79</td>\n      <td>-87.62</td>\n    </tr>\n    <tr>\n      <th>2001-01-01 01:00:00</th>\n      <td>1309918</td>\n      <td>01/01/2001 01:00:00 AM</td>\n      <td>THEFT</td>\n      <td>$500 AND UNDER</td>\n      <td>TAVERN/LIQUOR STORE</td>\n      <td>False</td>\n      <td>False</td>\n      <td>1924</td>\n      <td>19.00</td>\n      <td>NaN</td>\n      <td>2001</td>\n      <td>41.94</td>\n      <td>-87.65</td>\n    </tr>\n    <tr>\n      <th>...</th>\n      <td>...</td>\n      <td>...</td>\n      <td>...</td>\n      <td>...</td>\n      <td>...</td>\n      <td>...</td>\n      <td>...</td>\n      <td>...</td>\n      <td>...</td>\n      <td>...</td>\n      <td>...</td>\n      <td>...</td>\n      <td>...</td>\n    </tr>\n    <tr>\n      <th>2023-03-22 12:52:00</th>\n      <td>13020485</td>\n      <td>03/22/2023 12:52:00 PM</td>\n      <td>THEFT</td>\n      <td>RETAIL THEFT</td>\n      <td>SMALL RETAIL STORE</td>\n      <td>False</td>\n      <td>False</td>\n      <td>111</td>\n      <td>1.00</td>\n      <td>42.00</td>\n      <td>2023</td>\n      <td>41.88</td>\n      <td>-87.63</td>\n    </tr>\n    <tr>\n      <th>2023-03-22 12:53:00</th>\n      <td>13017961</td>\n      <td>03/22/2023 12:53:00 PM</td>\n      <td>CRIMINAL TRESPASS</td>\n      <td>TO LAND</td>\n      <td>SMALL RETAIL STORE</td>\n      <td>True</td>\n      <td>False</td>\n      <td>1921</td>\n      <td>19.00</td>\n      <td>47.00</td>\n      <td>2023</td>\n      <td>41.95</td>\n      <td>-87.69</td>\n    </tr>\n    <tr>\n      <th>2023-03-22 12:55:00</th>\n      <td>13018787</td>\n      <td>03/22/2023 12:55:00 PM</td>\n      <td>BATTERY</td>\n      <td>AGGRAVATED - KNIFE / CUTTING INSTRUMENT</td>\n      <td>SCHOOL - PUBLIC GROUNDS</td>\n      <td>False</td>\n      <td>False</td>\n      <td>1915</td>\n      <td>19.00</td>\n      <td>46.00</td>\n      <td>2023</td>\n      <td>41.96</td>\n      <td>-87.65</td>\n    </tr>\n    <tr>\n      <th>2023-03-22 12:59:00</th>\n      <td>13018716</td>\n      <td>03/22/2023 12:59:00 PM</td>\n      <td>THEFT</td>\n      <td>RETAIL THEFT</td>\n      <td>DRUG STORE</td>\n      <td>False</td>\n      <td>False</td>\n      <td>423</td>\n      <td>4.00</td>\n      <td>10.00</td>\n      <td>2023</td>\n      <td>41.73</td>\n      <td>-87.55</td>\n    </tr>\n    <tr>\n      <th>2023-03-22 12:59:00</th>\n      <td>13017628</td>\n      <td>03/22/2023 12:59:00 AM</td>\n      <td>WEAPONS VIOLATION</td>\n      <td>UNLAWFUL POSSESSION - HANDGUN</td>\n      <td>STREET</td>\n      <td>True</td>\n      <td>False</td>\n      <td>632</td>\n      <td>6.00</td>\n      <td>8.00</td>\n      <td>2023</td>\n      <td>41.74</td>\n      <td>-87.60</td>\n    </tr>\n  </tbody>\n</table>\n<p>7763122 rows × 13 columns</p>\n</div>"
     },
     "execution_count": 11,
     "metadata": {},
     "output_type": "execute_result"
    }
   ],
   "source": [
    "# save final df\n",
    "chicago_final = chicago_full.drop(columns=drop_cols).sort_index()#.reset_index()\n",
    "chicago_final"
   ]
  },
  {
   "cell_type": "code",
   "execution_count": 12,
   "id": "09b10723",
   "metadata": {},
   "outputs": [
    {
     "name": "stdout",
     "output_type": "stream",
     "text": [
      "<class 'pandas.core.frame.DataFrame'>\n",
      "DatetimeIndex: 7763122 entries, 2001-01-01 01:00:00 to 2023-03-22 12:59:00\n",
      "Data columns (total 13 columns):\n",
      " #   Column                Dtype  \n",
      "---  ------                -----  \n",
      " 0   ID                    int64  \n",
      " 1   Date                  object \n",
      " 2   Primary Type          object \n",
      " 3   Description           object \n",
      " 4   Location Description  object \n",
      " 5   Arrest                bool   \n",
      " 6   Domestic              bool   \n",
      " 7   Beat                  int64  \n",
      " 8   District              float64\n",
      " 9   Ward                  float64\n",
      " 10  Year                  object \n",
      " 11  Latitude              float64\n",
      " 12  Longitude             float64\n",
      "dtypes: bool(2), float64(4), int64(2), object(5)\n",
      "memory usage: 725.5+ MB\n"
     ]
    }
   ],
   "source": [
    "chicago_final.info()"
   ]
  },
  {
   "cell_type": "code",
   "execution_count": 13,
   "id": "ee26cc65",
   "metadata": {},
   "outputs": [
    {
     "data": {
      "text/plain": "Index                   62,104,976.00\nID                      62,104,976.00\nDate                   613,286,638.00\nPrimary Type           520,388,322.00\nDescription            568,185,575.00\nLocation Description   529,121,131.00\nArrest                   7,763,122.00\nDomestic                 7,763,122.00\nBeat                    62,104,976.00\nDistrict                62,104,976.00\nWard                    62,104,976.00\nYear                   473,550,442.00\nLatitude                62,104,976.00\nLongitude               62,104,976.00\ndtype: float64"
     },
     "execution_count": 13,
     "metadata": {},
     "output_type": "execute_result"
    }
   ],
   "source": [
    "chicago_final.memory_usage(deep=True).astype(float)"
   ]
  },
  {
   "cell_type": "code",
   "execution_count": 14,
   "id": "832f341c",
   "metadata": {
    "ExecuteTime": {
     "end_time": "2022-07-19T22:00:59.324800Z",
     "start_time": "2022-07-19T22:00:59.287027Z"
    }
   },
   "outputs": [
    {
     "data": {
      "text/plain": "array(['2001', '2002', '2003', '2004', '2005', '2006', '2007', '2008',\n       '2009', '2010', '2011', '2012', '2013', '2014', '2015', '2016',\n       '2017', '2018', '2019', '2020', '2021', '2022', '2023'],\n      dtype=object)"
     },
     "execution_count": 14,
     "metadata": {},
     "output_type": "execute_result"
    }
   ],
   "source": [
    "# unique # of year bins\n",
    "year_bins = chicago_final['Year'].astype(str).unique()\n",
    "year_bins"
   ]
  },
  {
   "cell_type": "code",
   "execution_count": 15,
   "id": "bb26f899",
   "metadata": {},
   "outputs": [],
   "source": [
    "FINAL_DROP = ['Datetime','Year']#,'Location Description']"
   ]
  },
  {
   "cell_type": "code",
   "execution_count": 16,
   "id": "b76d5d31",
   "metadata": {
    "ExecuteTime": {
     "end_time": "2022-07-19T22:04:02.904774Z",
     "start_time": "2022-07-19T22:00:59.456601Z"
    }
   },
   "outputs": [
    {
     "name": "stdout",
     "output_type": "stream",
     "text": [
      "[i] Saving .csv's to data/Chicago/\n",
      "- Succesfully saved data/Chicago/Chicago-Crime_2001.csv\n",
      "- Succesfully saved data/Chicago/Chicago-Crime_2002.csv\n",
      "- Succesfully saved data/Chicago/Chicago-Crime_2003.csv\n",
      "- Succesfully saved data/Chicago/Chicago-Crime_2004.csv\n",
      "- Succesfully saved data/Chicago/Chicago-Crime_2005.csv\n",
      "- Succesfully saved data/Chicago/Chicago-Crime_2006.csv\n",
      "- Succesfully saved data/Chicago/Chicago-Crime_2007.csv\n",
      "- Succesfully saved data/Chicago/Chicago-Crime_2008.csv\n",
      "- Succesfully saved data/Chicago/Chicago-Crime_2009.csv\n",
      "- Succesfully saved data/Chicago/Chicago-Crime_2010.csv\n",
      "- Succesfully saved data/Chicago/Chicago-Crime_2011.csv\n",
      "- Succesfully saved data/Chicago/Chicago-Crime_2012.csv\n",
      "- Succesfully saved data/Chicago/Chicago-Crime_2013.csv\n",
      "- Succesfully saved data/Chicago/Chicago-Crime_2014.csv\n",
      "- Succesfully saved data/Chicago/Chicago-Crime_2015.csv\n",
      "- Succesfully saved data/Chicago/Chicago-Crime_2016.csv\n",
      "- Succesfully saved data/Chicago/Chicago-Crime_2017.csv\n",
      "- Succesfully saved data/Chicago/Chicago-Crime_2018.csv\n",
      "- Succesfully saved data/Chicago/Chicago-Crime_2019.csv\n",
      "- Succesfully saved data/Chicago/Chicago-Crime_2020.csv\n",
      "- Succesfully saved data/Chicago/Chicago-Crime_2021.csv\n",
      "- Succesfully saved data/Chicago/Chicago-Crime_2022.csv\n",
      "- Succesfully saved data/Chicago/Chicago-Crime_2023.csv\n"
     ]
    }
   ],
   "source": [
    "## set save location \n",
    "\n",
    "os.makedirs(OUTPUT_FOLDER, exist_ok=True)\n",
    "print(f\"[i] Saving .csv's to {OUTPUT_FOLDER}\")\n",
    "## loop through years\n",
    "for year in year_bins:\n",
    "    \n",
    "    ## save temp slices of dfs to save.\n",
    "    temp_df = chicago_final.loc[ year]\n",
    "    temp_df = temp_df.reset_index(drop=False)\n",
    "    temp_df = temp_df.drop(columns=FINAL_DROP)\n",
    "\n",
    "    # save as csv to output folder\n",
    "    fname_temp = f\"{OUTPUT_FOLDER}Chicago-Crime_{year}.csv\"#.gz\n",
    "    temp_df.to_csv(fname_temp,index=False)\n",
    "\n",
    "    print(f\"- Succesfully saved {fname_temp}\")"
   ]
  },
  {
   "cell_type": "code",
   "execution_count": 17,
   "id": "3737c458",
   "metadata": {},
   "outputs": [
    {
     "data": {
      "text/plain": "['data/Chicago\\\\Chicago-Crime_2001.csv',\n 'data/Chicago\\\\Chicago-Crime_2002.csv',\n 'data/Chicago\\\\Chicago-Crime_2003.csv',\n 'data/Chicago\\\\Chicago-Crime_2004.csv',\n 'data/Chicago\\\\Chicago-Crime_2005.csv',\n 'data/Chicago\\\\Chicago-Crime_2006.csv',\n 'data/Chicago\\\\Chicago-Crime_2007.csv',\n 'data/Chicago\\\\Chicago-Crime_2008.csv',\n 'data/Chicago\\\\Chicago-Crime_2009.csv',\n 'data/Chicago\\\\Chicago-Crime_2010.csv',\n 'data/Chicago\\\\Chicago-Crime_2011.csv',\n 'data/Chicago\\\\Chicago-Crime_2012.csv',\n 'data/Chicago\\\\Chicago-Crime_2013.csv',\n 'data/Chicago\\\\Chicago-Crime_2014.csv',\n 'data/Chicago\\\\Chicago-Crime_2015.csv',\n 'data/Chicago\\\\Chicago-Crime_2016.csv',\n 'data/Chicago\\\\Chicago-Crime_2017.csv',\n 'data/Chicago\\\\Chicago-Crime_2018.csv',\n 'data/Chicago\\\\Chicago-Crime_2019.csv',\n 'data/Chicago\\\\Chicago-Crime_2020.csv',\n 'data/Chicago\\\\Chicago-Crime_2021.csv',\n 'data/Chicago\\\\Chicago-Crime_2022.csv',\n 'data/Chicago\\\\Chicago-Crime_2023.csv']"
     },
     "execution_count": 17,
     "metadata": {},
     "output_type": "execute_result"
    }
   ],
   "source": [
    "saved_files = sorted(glob.glob(OUTPUT_FOLDER+'*.*csv'))\n",
    "saved_files"
   ]
  },
  {
   "cell_type": "code",
   "execution_count": 18,
   "id": "949a0499",
   "metadata": {
    "ExecuteTime": {
     "end_time": "2022-07-19T22:04:17.516765Z",
     "start_time": "2022-07-19T22:04:17.496966Z"
    }
   },
   "outputs": [
    {
     "name": "stdout",
     "output_type": "stream",
     "text": [
      "Source URL: \n",
      "- https://data.cityofchicago.org/Public-Safety/Crimes-2001-to-Present/ijzp-q8t2\n",
      "- Filtered for years 2000-Present.\n",
      "\n",
      "Downloaded 07/18/2022\n",
      "- Files are split into 1 year per file.\n",
      "\n",
      "EXAMPLE USAGE:\n",
      ">> import glob\n",
      ">> import pandas as pd\n",
      ">> folder = \"Data/Chicago/\"\n",
      ">> crime_files = sorted(glob.glob(folder+\"*.csv\"))\n",
      ">> df = pd.concat([pd.read_csv(f) for f in crime_files])\n",
      "\n"
     ]
    }
   ],
   "source": [
    "## create a README.txt for the zip files\n",
    "readme = \"\"\"Source URL: \n",
    "- https://data.cityofchicago.org/Public-Safety/Crimes-2001-to-Present/ijzp-q8t2\n",
    "- Filtered for years 2000-Present.\n",
    "\n",
    "Downloaded 07/18/2022\n",
    "- Files are split into 1 year per file.\n",
    "\n",
    "EXAMPLE USAGE:\n",
    ">> import glob\n",
    ">> import pandas as pd\n",
    ">> folder = \"Data/Chicago/\"\n",
    ">> crime_files = sorted(glob.glob(folder+\"*.csv\"))\n",
    ">> df = pd.concat([pd.read_csv(f) for f in crime_files])\n",
    "\"\"\"\n",
    "print(readme)\n",
    "\n",
    "\n",
    "with open(f\"{OUTPUT_FOLDER}README.txt\",'w') as f:\n",
    "    f.write(readme)"
   ]
  },
  {
   "cell_type": "markdown",
   "id": "c5302540",
   "metadata": {},
   "source": [
    "## Confirmation"
   ]
  },
  {
   "cell_type": "markdown",
   "id": "4bc8e8ed",
   "metadata": {},
   "source": [
    "- Follow the example usage above to test if your files were created successfully."
   ]
  },
  {
   "cell_type": "code",
   "execution_count": 19,
   "id": "23f44c51",
   "metadata": {},
   "outputs": [
    {
     "data": {
      "text/plain": "             ID                    Date                Primary Type  \\\n0       3769790  01/01/2001 01:00:00 PM                       THEFT   \n1       1310717  01/01/2001 01:00:00 AM             CRIMINAL DAMAGE   \n2       1358218  01/01/2001 01:00:00 PM                     ASSAULT   \n3       5462733  01/01/2001 01:00:00 AM  OFFENSE INVOLVING CHILDREN   \n4       1309918  01/01/2001 01:00:00 AM                       THEFT   \n...         ...                     ...                         ...   \n52373  13020485  03/22/2023 12:52:00 PM                       THEFT   \n52374  13017961  03/22/2023 12:53:00 PM           CRIMINAL TRESPASS   \n52375  13018787  03/22/2023 12:55:00 PM                     BATTERY   \n52376  13018716  03/22/2023 12:59:00 PM                       THEFT   \n52377  13017628  03/22/2023 12:59:00 AM           WEAPONS VIOLATION   \n\n                                   Description     Location Description  \\\n0                      AGG: FINANCIAL ID THEFT                RESIDENCE   \n1                                   TO VEHICLE                   STREET   \n2                                       SIMPLE                APARTMENT   \n3                AGG CRIM SEX ABUSE FAM MEMBER                RESIDENCE   \n4                               $500 AND UNDER      TAVERN/LIQUOR STORE   \n...                                        ...                      ...   \n52373                             RETAIL THEFT       SMALL RETAIL STORE   \n52374                                  TO LAND       SMALL RETAIL STORE   \n52375  AGGRAVATED - KNIFE / CUTTING INSTRUMENT  SCHOOL - PUBLIC GROUNDS   \n52376                             RETAIL THEFT               DRUG STORE   \n52377            UNLAWFUL POSSESSION - HANDGUN                   STREET   \n\n       Arrest  Domestic  Beat  District  Ward  Latitude  Longitude  \n0       False     False   523      5.00 34.00     41.67     -87.64  \n1       False     False  2424     24.00   NaN     42.01     -87.68  \n2       False     False   312      3.00   NaN     41.78     -87.61  \n3       False      True   233      2.00 20.00     41.79     -87.62  \n4       False     False  1924     19.00   NaN     41.94     -87.65  \n...       ...       ...   ...       ...   ...       ...        ...  \n52373   False     False   111      1.00 42.00     41.88     -87.63  \n52374    True     False  1921     19.00 47.00     41.95     -87.69  \n52375   False     False  1915     19.00 46.00     41.96     -87.65  \n52376   False     False   423      4.00 10.00     41.73     -87.55  \n52377    True     False   632      6.00  8.00     41.74     -87.60  \n\n[7763122 rows x 12 columns]",
      "text/html": "<div>\n<style scoped>\n    .dataframe tbody tr th:only-of-type {\n        vertical-align: middle;\n    }\n\n    .dataframe tbody tr th {\n        vertical-align: top;\n    }\n\n    .dataframe thead th {\n        text-align: right;\n    }\n</style>\n<table border=\"1\" class=\"dataframe\">\n  <thead>\n    <tr style=\"text-align: right;\">\n      <th></th>\n      <th>ID</th>\n      <th>Date</th>\n      <th>Primary Type</th>\n      <th>Description</th>\n      <th>Location Description</th>\n      <th>Arrest</th>\n      <th>Domestic</th>\n      <th>Beat</th>\n      <th>District</th>\n      <th>Ward</th>\n      <th>Latitude</th>\n      <th>Longitude</th>\n    </tr>\n  </thead>\n  <tbody>\n    <tr>\n      <th>0</th>\n      <td>3769790</td>\n      <td>01/01/2001 01:00:00 PM</td>\n      <td>THEFT</td>\n      <td>AGG: FINANCIAL ID THEFT</td>\n      <td>RESIDENCE</td>\n      <td>False</td>\n      <td>False</td>\n      <td>523</td>\n      <td>5.00</td>\n      <td>34.00</td>\n      <td>41.67</td>\n      <td>-87.64</td>\n    </tr>\n    <tr>\n      <th>1</th>\n      <td>1310717</td>\n      <td>01/01/2001 01:00:00 AM</td>\n      <td>CRIMINAL DAMAGE</td>\n      <td>TO VEHICLE</td>\n      <td>STREET</td>\n      <td>False</td>\n      <td>False</td>\n      <td>2424</td>\n      <td>24.00</td>\n      <td>NaN</td>\n      <td>42.01</td>\n      <td>-87.68</td>\n    </tr>\n    <tr>\n      <th>2</th>\n      <td>1358218</td>\n      <td>01/01/2001 01:00:00 PM</td>\n      <td>ASSAULT</td>\n      <td>SIMPLE</td>\n      <td>APARTMENT</td>\n      <td>False</td>\n      <td>False</td>\n      <td>312</td>\n      <td>3.00</td>\n      <td>NaN</td>\n      <td>41.78</td>\n      <td>-87.61</td>\n    </tr>\n    <tr>\n      <th>3</th>\n      <td>5462733</td>\n      <td>01/01/2001 01:00:00 AM</td>\n      <td>OFFENSE INVOLVING CHILDREN</td>\n      <td>AGG CRIM SEX ABUSE FAM MEMBER</td>\n      <td>RESIDENCE</td>\n      <td>False</td>\n      <td>True</td>\n      <td>233</td>\n      <td>2.00</td>\n      <td>20.00</td>\n      <td>41.79</td>\n      <td>-87.62</td>\n    </tr>\n    <tr>\n      <th>4</th>\n      <td>1309918</td>\n      <td>01/01/2001 01:00:00 AM</td>\n      <td>THEFT</td>\n      <td>$500 AND UNDER</td>\n      <td>TAVERN/LIQUOR STORE</td>\n      <td>False</td>\n      <td>False</td>\n      <td>1924</td>\n      <td>19.00</td>\n      <td>NaN</td>\n      <td>41.94</td>\n      <td>-87.65</td>\n    </tr>\n    <tr>\n      <th>...</th>\n      <td>...</td>\n      <td>...</td>\n      <td>...</td>\n      <td>...</td>\n      <td>...</td>\n      <td>...</td>\n      <td>...</td>\n      <td>...</td>\n      <td>...</td>\n      <td>...</td>\n      <td>...</td>\n      <td>...</td>\n    </tr>\n    <tr>\n      <th>52373</th>\n      <td>13020485</td>\n      <td>03/22/2023 12:52:00 PM</td>\n      <td>THEFT</td>\n      <td>RETAIL THEFT</td>\n      <td>SMALL RETAIL STORE</td>\n      <td>False</td>\n      <td>False</td>\n      <td>111</td>\n      <td>1.00</td>\n      <td>42.00</td>\n      <td>41.88</td>\n      <td>-87.63</td>\n    </tr>\n    <tr>\n      <th>52374</th>\n      <td>13017961</td>\n      <td>03/22/2023 12:53:00 PM</td>\n      <td>CRIMINAL TRESPASS</td>\n      <td>TO LAND</td>\n      <td>SMALL RETAIL STORE</td>\n      <td>True</td>\n      <td>False</td>\n      <td>1921</td>\n      <td>19.00</td>\n      <td>47.00</td>\n      <td>41.95</td>\n      <td>-87.69</td>\n    </tr>\n    <tr>\n      <th>52375</th>\n      <td>13018787</td>\n      <td>03/22/2023 12:55:00 PM</td>\n      <td>BATTERY</td>\n      <td>AGGRAVATED - KNIFE / CUTTING INSTRUMENT</td>\n      <td>SCHOOL - PUBLIC GROUNDS</td>\n      <td>False</td>\n      <td>False</td>\n      <td>1915</td>\n      <td>19.00</td>\n      <td>46.00</td>\n      <td>41.96</td>\n      <td>-87.65</td>\n    </tr>\n    <tr>\n      <th>52376</th>\n      <td>13018716</td>\n      <td>03/22/2023 12:59:00 PM</td>\n      <td>THEFT</td>\n      <td>RETAIL THEFT</td>\n      <td>DRUG STORE</td>\n      <td>False</td>\n      <td>False</td>\n      <td>423</td>\n      <td>4.00</td>\n      <td>10.00</td>\n      <td>41.73</td>\n      <td>-87.55</td>\n    </tr>\n    <tr>\n      <th>52377</th>\n      <td>13017628</td>\n      <td>03/22/2023 12:59:00 AM</td>\n      <td>WEAPONS VIOLATION</td>\n      <td>UNLAWFUL POSSESSION - HANDGUN</td>\n      <td>STREET</td>\n      <td>True</td>\n      <td>False</td>\n      <td>632</td>\n      <td>6.00</td>\n      <td>8.00</td>\n      <td>41.74</td>\n      <td>-87.60</td>\n    </tr>\n  </tbody>\n</table>\n<p>7763122 rows × 12 columns</p>\n</div>"
     },
     "execution_count": 19,
     "metadata": {},
     "output_type": "execute_result"
    }
   ],
   "source": [
    "# get list of files from folder\n",
    "crime_files = sorted(glob.glob(OUTPUT_FOLDER+\"*.csv\"))\n",
    "df = pd.concat([pd.read_csv(f) for f in crime_files])\n",
    "df"
   ]
  },
  {
   "cell_type": "code",
   "execution_count": 20,
   "id": "9552508d",
   "metadata": {},
   "outputs": [
    {
     "data": {
      "text/plain": "2001    485875\n2002    486801\n2003    475979\n2004    469420\n2005    453770\n2006    448174\n2007    437082\n2008    427164\n2009    392818\n2010    370494\n2011    351959\n2012    336261\n2013    307463\n2014    275731\n2015    264751\n2016    269783\n2017    269057\n2018    268761\n2019    261227\n2020    212062\n2021    208508\n2022    237604\n2023     52378\nName: Date, dtype: int64"
     },
     "execution_count": 20,
     "metadata": {},
     "output_type": "execute_result"
    }
   ],
   "source": [
    "years = df['Date'].map(lambda x: x.split()[0].split('/')[-1])\n",
    "years.value_counts().sort_index()"
   ]
  },
  {
   "cell_type": "markdown",
   "id": "999fe20a",
   "metadata": {},
   "source": [
    "## Summary"
   ]
  },
  {
   "cell_type": "markdown",
   "id": "cda0d418",
   "metadata": {},
   "source": [
    "- The chicago crime dataset has now been saved to your repository as csv files."
   ]
  },
  {
   "cell_type": "code",
   "execution_count": 20,
   "outputs": [],
   "source": [],
   "metadata": {
    "collapsed": false
   }
  }
 ],
 "metadata": {
  "kernelspec": {
   "display_name": "Python (dojo-env)",
   "language": "python",
   "name": "dojo-env"
  },
  "language_info": {
   "codemirror_mode": {
    "name": "ipython",
    "version": 3
   },
   "file_extension": ".py",
   "mimetype": "text/x-python",
   "name": "python",
   "nbconvert_exporter": "python",
   "pygments_lexer": "ipython3",
   "version": "3.8.13"
  },
  "toc": {
   "base_numbering": 1,
   "nav_menu": {},
   "number_sections": false,
   "sideBar": true,
   "skip_h1_title": false,
   "title_cell": "Table of Contents",
   "title_sidebar": "Contents",
   "toc_cell": false,
   "toc_position": {
    "height": "calc(100% - 180px)",
    "left": "10px",
    "top": "150px",
    "width": "262.387px"
   },
   "toc_section_display": true,
   "toc_window_display": false
  }
 },
 "nbformat": 4,
 "nbformat_minor": 5
}
